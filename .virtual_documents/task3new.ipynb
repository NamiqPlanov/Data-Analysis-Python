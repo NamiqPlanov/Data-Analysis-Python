import pandas as pd
from sklearn.preprocessing import LabelEncoder
from imblearn.over_sampling import SMOTE
from sklearn.model_selection import train_test_split
from sklearn.metrics import classification_report


data1=pd.read_csv(r'D:\DS\DL\projects\projects\task 3\Application.csv')
data2=pd.read_csv(r'D:\DS\DL\projects\projects\task 3\Credit.csv')


merged_data = pd.merge(data1, data2, on='ID', how='inner')


merged_data


merged_data.fillna('Other', inplace=True)


merged_data


categorical_columns = merged_data.select_dtypes(include=['object']).columns
label_encoder = LabelEncoder()


for col in categorical_columns:
    merged_data[col] = label_encoder.fit_transform(merged_data[col])


print(merged_data.columns)


X = merged_data.drop('Status', axis=1)  # Features
y = merged_data['Status']  # Target variable


X_train, X_test, y_train, y_test = train_test_split(X, y, test_size=0.2, random_state=42)


smote = SMOTE(k_neighbors=1,random_state=42)  # Correct argument name
X_resampled, y_resampled = smote.fit_resample(X_train, y_train)


from sklearn.ensemble import RandomForestClassifier


#model = RandomForestClassifier(random_state=42)


model = RandomForestClassifier(n_jobs=-1)  # Use all available CPU cores
model.fit(X_resampled, y_resampled) 


y_pred=model.predict(X_test)


print(classification_report(y_test,y_pred))



