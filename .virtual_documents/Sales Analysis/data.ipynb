import pandas as pd


import numpy as np
import seaborn as sns
import matplotlib.pyplot as plt
from sklearn.model_selection import train_test_split
from sklearn.metrics import mean_squared_error,mean_absolute_error
from sklearn.linear_model import LinearRegression


data = pd.read_csv('Warehouse_and_Retail_Sales.csv')


print('Number of sales-{}'.format(data.shape[0]))


print(data['ITEM TYPE'].value_counts())


print(data.dtypes)


print(data['YEAR'].value_counts())


data['Months'] = data['MONTH'].map({
    1:'January',
    2:'February',
    3:'March',
    4:'April',
    5:'May',
    6:'June',
    7:'July',
    8:'August',
    9:'September',
    10:'October',
    11:'November',
    12:'December'
})


print(data['Months'].value_counts())


#Count missing values for each column and analyze their impact.
info1 = 'Is there any missing value?{}'.format(data.isnull().values.any())
if info1==True:
    print(data.isnull().sum())
print('There is no missing value')


#Check for duplicate records in the dataset.
info2 = 'Is there any duplicated value?{}'.format(data.duplicated().values.any())
if info2==True:
    print(data.duplicated().sum())
print('There is no duplicated value')


#Determine the range of years available in the dataset.
print(data['YEAR'].unique())


#Find the first and last recorded transactions for each supplier.
first_transaction = data.groupby('SUPPLIER')[['MONTH','YEAR']].min().reset_index()
last_transaction = data.groupby('SUPPLIER')[['MONTH','YEAR']].max().reset_index()
merge_data = first_transaction.merge(last_transaction,on='SUPPLIER',suffixes = ('_FIRST','_LAST'))
print(merge_data)


data['TOTAL_SALES']=data['RETAIL SALES']+data['WAREHOUSE SALES']


#Calculate total sales (retail + warehouse) for each year.
sales_per_year = data.groupby('YEAR')['TOTAL_SALES'].sum().reset_index()
print(sales_per_year)
sns.lineplot(x='YEAR',y='TOTAL_SALES',data=sales_per_year,color='green',marker='o')
plt.xlabel('Year')
plt.ylabel('Total Sales')
plt.tight_layout()
plt.show()


#Identify the month with the highest total sales.
total_sales_per_month = data.groupby('Months')['TOTAL_SALES'].sum()
print(total_sales_per_month.nlargest(3))


#Find the supplier with the highest total sales.
sales_per_supplier = data.groupby('SUPPLIER')['TOTAL_SALES'].sum()
top_supplier = sales_per_supplier.nlargest(3)
print(top_supplier)


#Determine the percentage of sales contributed by each supplier.
data['sales_percentage'] = (data['TOTAL_SALES']/(data['TOTAL_SALES'].sum()))*100
percentage_by_supplier = data.groupby('SUPPLIER')['sales_percentage'].sum().reset_index()
print(percentage_by_supplier)


#Rank items based on total sales
info = data.groupby('ITEM DESCRIPTION')['TOTAL_SALES'].sum()
sorted_info = info.sort_values(ascending=False).reset_index()
sorted_info['RANK'] = sorted_info['TOTAL_SALES'].rank(ascending=False,method='min')
print(sorted_info.head(20))


#Find the least-selling item and analyze its sales trend.
info = data.groupby('ITEM DESCRIPTION')[['ITEM DESCRIPTION','TOTAL_SALES']].sum()
least_sold_item=info.min()
print(least_sold_item)



#Compare retail sales vs. warehouse sales for each year.
info = data.groupby('YEAR')[['RETAIL SALES','WAREHOUSE SALES']].sum().reset_index()
plt.plot(info['YEAR'],info['RETAIL SALES'],label='Retail Sales',marker='o',color='blue')
plt.plot(info['YEAR'],info['WAREHOUSE SALES'],label='WAREHOUSE SALES',marker='o',color='green')
plt.xlabel('Years')
plt.ylabel('Sales')
plt.show()


#Identify seasonal trends in sales (e.g., highest sales months).
info = data.groupby('Months')['TOTAL_SALES'].sum().reset_index()
plt.plot(info['Months'],info['TOTAL_SALES'],marker='o',color='grey')
plt.xlabel('Month')
plt.ylabel('Total Sales (Millions)')
plt.xticks(fontsize=6)
plt.show()


#Calculate the average monthly sales for each supplier.
info = data.groupby('SUPPLIER')['TOTAL_SALES'].mean().reset_index(name='AVG Sales')
print(info)


#Find the average number of retail transactions per month.
info = data.groupby('Months')['RETAIL SALES'].mean().reset_index(name='AVG Retail Sales')
print(info)


#Determine the correlation between retail sales and retail transfers.
numeric_columns = data.select_dtypes(include='number')
print(numeric_columns.corr())
sns.heatmap(numeric_columns.corr(),annot=True)
plt.show()


print(data.columns)


#Identify the items that are mostly sold via warehouse sales rather than retail.
info = data[data['WAREHOUSE SALES']>data['RETAIL SALES']]
print(info.head(10))


#Analyze how retail transfers impact overall sales.
info = data.groupby('YEAR')[['RETAIL SALES','TOTAL_SALES']].sum().reset_index()
sns.scatterplot(x='RETAIL SALES',y='TOTAL_SALES',data=info,color='green')
plt.xlabel('Retail Sales',labelpad=13)
plt.ylabel('Total Sales',labelpad=13)
plt.show()
print('')
sns.lineplot(x='YEAR',y='RETAIL SALES',data=info,color='grey',marker='o',label='Retail Sales')
sns.lineplot(x='YEAR',y='TOTAL_SALES',data=info,color='green',marker='o',label='Total Sales')
plt.xlabel('Year')
plt.ylabel('Sales')
plt.show()


#Find the most frequently purchased items across all months.
info = data.groupby('ITEM DESCRIPTION')['TOTAL_SALES'].count().reset_index(name='Purchase Count')
top_items = info.nlargest(5,'Purchase Count')
print(top_items)


#Find the year with the highest overall sales.
info = data.groupby('YEAR')['TOTAL_SALES'].sum().reset_index()
print(info.nlargest(1,'TOTAL_SALES'))


#Compare the sales trends of the top 5 suppliers over time.
info = data.groupby(['YEAR','SUPPLIER'])['TOTAL_SALES'].sum().reset_index()
top_suppliers = info.groupby('SUPPLIER')['TOTAL_SALES'].sum().nlargest(5).index
filtered_data = info[info['SUPPLIER'].isin(top_suppliers)]
sns.barplot(x='YEAR',y='TOTAL_SALES',hue='SUPPLIER',data=filtered_data)
plt.title('Sales trends of the top 5 suppliers over years')
plt.xlabel('Year')
plt.ylabel('Sales')
plt.legend(title='Suppliers',loc='upper left',fontsize=8)
plt.show()


#Analyze monthly sales seasonality across different years.
info=data.groupby(['YEAR','Months'])['TOTAL_SALES'].sum().reset_index()
seasonality_trend = info.pivot(index='Months',columns='YEAR',values='TOTAL_SALES')
sns.lineplot(data=seasonality_trend,marker='o')
plt.title('Sales seasonality across different years')
plt.ylabel('Sales')
plt.xticks(fontsize=6)
plt.show()


#Identify months where warehouse sales exceeded retail sales.
info = data[data['WAREHOUSE SALES']>data['RETAIL SALES']][['Months','WAREHOUSE SALES','RETAIL SALES']]
print(info)


#Analyze the impact of warehouse sales on total revenue.
info = data.groupby('YEAR')[['WAREHOUSE SALES','TOTAL_SALES']].sum().reset_index()
sns.lineplot(x='YEAR',y='WAREHOUSE SALES',label='Warehouse Sales',marker='o',color='green',data=info)
sns.lineplot(x='YEAR',y='TOTAL_SALES',label='Total Sales',marker='o',color='grey',data=info)
plt.show()


#Create a pie chart showing the percentage contribution of each supplier to total sales.
info=data['SUPPLIER'].value_counts().head(10)
plt.pie(info,labels=info.index,autopct='%6.1f%%')
plt.title('The percentage contribution of each supplier to total sales')
plt.show()


print(data['ITEM TYPE'].unique())


#Compare sales trends of different item types.
info=data.groupby(['ITEM TYPE','YEAR'])['TOTAL_SALES'].sum().reset_index()
sales_trend = info.pivot(index='ITEM TYPE',columns='YEAR',values='TOTAL_SALES')
sns.lineplot(sales_trend,marker='o')
plt.title('Sales trends of different item types')
plt.xlabel('Item Types')
plt.ylabel('Total Sales')
plt.xticks(fontsize=8)
plt.legend(title='Years')
plt.show()







